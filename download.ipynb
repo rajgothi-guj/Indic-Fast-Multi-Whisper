{
 "cells": [
  {
   "cell_type": "code",
   "execution_count": 8,
   "metadata": {},
   "outputs": [
    {
     "name": "stderr",
     "output_type": "stream",
     "text": [
      "/hdd/Gothi_raj/envs/whisper/lib/python3.10/site-packages/datasets/load.py:1486: FutureWarning: The repository for google/fleurs contains custom code which must be executed to correctly load the dataset. You can inspect the repository content at https://hf.co/datasets/google/fleurs\n",
      "You can avoid this message in future by passing the argument `trust_remote_code=True`.\n",
      "Passing `trust_remote_code=True` will be mandatory to load this dataset from the next major release of `datasets`.\n",
      "  warnings.warn(\n"
     ]
    }
   ],
   "source": [
    "from datasets import load_dataset\n",
    "\n",
    "dataset = load_dataset(\"google/fleurs\",'hi_in',split='test',cache_dir='dataset/HF')"
   ]
  },
  {
   "cell_type": "code",
   "execution_count": 9,
   "metadata": {},
   "outputs": [
    {
     "data": {
      "text/plain": [
       "Dataset({\n",
       "    features: ['id', 'num_samples', 'path', 'audio', 'transcription', 'raw_transcription', 'gender', 'lang_id', 'language', 'lang_group_id'],\n",
       "    num_rows: 418\n",
       "})"
      ]
     },
     "execution_count": 9,
     "metadata": {},
     "output_type": "execute_result"
    }
   ],
   "source": [
    "dataset"
   ]
  },
  {
   "cell_type": "code",
   "execution_count": 3,
   "metadata": {},
   "outputs": [
    {
     "name": "stderr",
     "output_type": "stream",
     "text": [
      "Downloading data: 100%|██████████| 1.50G/1.50G [02:23<00:00, 10.5MB/s]  \n",
      "Downloading data: 100%|██████████| 167M/167M [00:12<00:00, 13.1MB/s]    \n",
      "Downloading data: 100%|██████████| 270M/270M [00:17<00:00, 15.5MB/s]    \n",
      "Downloading data: 100%|██████████| 2.60M/2.60M [00:00<00:00, 2.63MB/s]\n",
      "Downloading data: 100%|██████████| 350k/350k [00:00<00:00, 2.35MB/s]\n",
      "Downloading data: 100%|██████████| 566k/566k [00:00<00:00, 3.05MB/s]\n",
      "Generating train split: 2302 examples [00:36, 62.35 examples/s] \n",
      "Generating validation split: 311 examples [00:04, 66.96 examples/s] \n",
      "Generating test split: 472 examples [00:07, 66.11 examples/s] \n"
     ]
    }
   ],
   "source": [
    "dataset = load_dataset(\"google/fleurs\",'te_in',cache_dir='dataset/HF')"
   ]
  },
  {
   "cell_type": "code",
   "execution_count": 2,
   "metadata": {},
   "outputs": [
    {
     "name": "stderr",
     "output_type": "stream",
     "text": [
      "/hdd/Gothi_raj/envs/whisper/lib/python3.10/site-packages/datasets/load.py:1486: FutureWarning: The repository for google/fleurs contains custom code which must be executed to correctly load the dataset. You can inspect the repository content at https://hf.co/datasets/google/fleurs\n",
      "You can avoid this message in future by passing the argument `trust_remote_code=True`.\n",
      "Passing `trust_remote_code=True` will be mandatory to load this dataset from the next major release of `datasets`.\n",
      "  warnings.warn(\n"
     ]
    }
   ],
   "source": [
    "dataset = load_dataset(\"google/fleurs\",'kn_in',cache_dir='dataset/HF')"
   ]
  },
  {
   "cell_type": "code",
   "execution_count": 7,
   "metadata": {},
   "outputs": [
    {
     "name": "stderr",
     "output_type": "stream",
     "text": [
      "Downloading data: 100%|██████████| 1.84G/1.84G [04:25<00:00, 6.93MB/s] \n",
      "Downloading data: 100%|██████████| 310M/310M [01:13<00:00, 4.22MB/s] \n",
      "Downloading data: 100%|██████████| 722M/722M [00:57<00:00, 12.5MB/s]   \n",
      "Downloading data: 100%|██████████| 4.11M/4.11M [00:00<00:00, 5.25MB/s]\n",
      "Downloading data: 100%|██████████| 563k/563k [00:00<00:00, 1.03MB/s]\n",
      "Downloading data: 100%|██████████| 1.36M/1.36M [00:00<00:00, 2.92MB/s]\n",
      "Generating train split: 3043 examples [00:25, 120.31 examples/s]\n",
      "Generating validation split: 418 examples [00:04, 102.28 examples/s]\n",
      "Generating test split: 958 examples [00:08, 106.81 examples/s]\n"
     ]
    }
   ],
   "source": [
    "dataset = load_dataset(\"google/fleurs\",'ml_in',cache_dir='dataset/HF')"
   ]
  },
  {
   "cell_type": "code",
   "execution_count": 1,
   "metadata": {},
   "outputs": [
    {
     "name": "stderr",
     "output_type": "stream",
     "text": [
      "/hdd/Gothi_raj/envs/whisper/lib/python3.10/site-packages/tqdm/auto.py:21: TqdmWarning: IProgress not found. Please update jupyter and ipywidgets. See https://ipywidgets.readthedocs.io/en/stable/user_install.html\n",
      "  from .autonotebook import tqdm as notebook_tqdm\n"
     ]
    }
   ],
   "source": [
    "import torch\n",
    "\n",
    "device = \"cuda\" if torch.cuda.is_available() else \"cpu\""
   ]
  },
  {
   "cell_type": "code",
   "execution_count": 3,
   "metadata": {},
   "outputs": [
    {
     "ename": "AttributeError",
     "evalue": "'str' object has no attribute 'ids'",
     "output_type": "error",
     "traceback": [
      "\u001b[0;31m---------------------------------------------------------------------------\u001b[0m",
      "\u001b[0;31mAttributeError\u001b[0m                            Traceback (most recent call last)",
      "Cell \u001b[0;32mIn[3], line 1\u001b[0m\n\u001b[0;32m----> 1\u001b[0m \u001b[43mdevice\u001b[49m\u001b[38;5;241;43m.\u001b[39;49m\u001b[43mids\u001b[49m\n",
      "\u001b[0;31mAttributeError\u001b[0m: 'str' object has no attribute 'ids'"
     ]
    }
   ],
   "source": [
    "device"
   ]
  },
  {
   "cell_type": "code",
   "execution_count": 2,
   "metadata": {},
   "outputs": [],
   "source": [
    "from datasets import load_from_disk\n",
    "path = \"HFDataset/gujarati_kathbath_original\"\n",
    "\n",
    "dataset = load_from_disk(path)"
   ]
  },
  {
   "cell_type": "code",
   "execution_count": 3,
   "metadata": {},
   "outputs": [
    {
     "data": {
      "text/plain": [
       "DatasetDict({\n",
       "    train: Dataset({\n",
       "        features: ['input_features', 'labels'],\n",
       "        num_rows: 100\n",
       "    })\n",
       "    validation: Dataset({\n",
       "        features: ['input_features', 'labels'],\n",
       "        num_rows: 100\n",
       "    })\n",
       "})"
      ]
     },
     "execution_count": 3,
     "metadata": {},
     "output_type": "execute_result"
    }
   ],
   "source": [
    "dataset"
   ]
  },
  {
   "cell_type": "code",
   "execution_count": null,
   "metadata": {},
   "outputs": [],
   "source": []
  }
 ],
 "metadata": {
  "kernelspec": {
   "display_name": "Python 3",
   "language": "python",
   "name": "python3"
  },
  "language_info": {
   "codemirror_mode": {
    "name": "ipython",
    "version": 3
   },
   "file_extension": ".py",
   "mimetype": "text/x-python",
   "name": "python",
   "nbconvert_exporter": "python",
   "pygments_lexer": "ipython3",
   "version": "3.10.0"
  }
 },
 "nbformat": 4,
 "nbformat_minor": 2
}
