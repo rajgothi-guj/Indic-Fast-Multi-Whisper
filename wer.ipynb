{
 "cells": [
  {
   "cell_type": "code",
   "execution_count": 1,
   "metadata": {},
   "outputs": [],
   "source": [
    "import pandas as pd\n",
    "import jiwer\n",
    "from whisper.normalizers import IndicTextNormalizer\n",
    "\n",
    "def calculate(path,language):\n",
    "    \n",
    "    data = pd.read_csv(path)\n",
    "\n",
    "    data = data.dropna()\n",
    "\n",
    "    normalizer = IndicTextNormalizer(use_indic_normalizer = True, lang = language)\n",
    "\n",
    "    data[\"hypothesis\"] = [normalizer(text) for text in data[\"hypothesis\"]]\n",
    "    data[\"reference\"] = [normalizer(text) for text in data[\"reference\"]]\n",
    "\n",
    "    # Remove rows with empty strings in 'hypothesis' or 'reference'\n",
    "    data = data[data[\"reference\"] != '']    \n",
    "    \n",
    "    # wer = jiwer.wer(list(data[\"reference\"]), list(data[\"hypothesis\"]))\n",
    "    wer = jiwer.cer(list(data[\"reference\"]), list(data[\"hypothesis\"]))\n",
    "\n",
    "    # print(f\"{language} WER: {wer * 100:.2f} %\")\n",
    "    print(f\"{wer * 100:.2f}\")"
   ]
  },
  {
   "cell_type": "code",
   "execution_count": 4,
   "metadata": {},
   "outputs": [
    {
     "name": "stdout",
     "output_type": "stream",
     "text": [
      "3.39\n",
      "3.93\n",
      "3.64\n",
      "2.51\n",
      "4.27\n",
      "4.07\n",
      "3.46\n",
      "6.17\n"
     ]
    }
   ],
   "source": [
    "languages = [\"hindi\", \"gujarati\", \"marathi\", \"bengali\", \"tamil\", \"telugu\", \"kannada\", \"malayalam\"]\n",
    "save_path_base = \"Results/prompt/kathbath\"\n",
    "\n",
    "for lang in languages:\n",
    "    path = f\"{save_path_base}/{lang}_test_medium.csv\"\n",
    "    calculate(path,lang)"
   ]
  },
  {
   "cell_type": "code",
   "execution_count": 2,
   "metadata": {},
   "outputs": [
    {
     "name": "stdout",
     "output_type": "stream",
     "text": [
      "14.45\n",
      "25.58\n",
      "21.00\n",
      "24.39\n",
      "27.58\n",
      "26.14\n"
     ]
    },
    {
     "name": "stdout",
     "output_type": "stream",
     "text": [
      "20.33\n",
      "35.04\n"
     ]
    }
   ],
   "source": [
    "languages = [\"hindi\", \"gujarati\", \"marathi\", \"bengali\", \"tamil\", \"telugu\", \"kannada\", \"malayalam\"]\n",
    "save_path_base = \"Results/largev3_baseline/fleurs\"\n",
    "\n",
    "for lang in languages:\n",
    "    path = f\"{save_path_base}/{lang}.csv\"\n",
    "    calculate(path,lang)"
   ]
  },
  {
   "cell_type": "code",
   "execution_count": 2,
   "metadata": {},
   "outputs": [
    {
     "name": "stdout",
     "output_type": "stream",
     "text": [
      "31.08\n",
      "37.05\n",
      "52.76\n",
      "33.32\n",
      "58.38\n"
     ]
    },
    {
     "name": "stdout",
     "output_type": "stream",
     "text": [
      "57.99\n",
      "67.83\n"
     ]
    }
   ],
   "source": [
    "languages = [\"Hindi\", \"Marathi\", \"Bengali\", \"Tamil\", \"Telugu\", \"Kannada\", \"Malayalam\"]\n",
    "# languages = [\"Hindi\", \"Marathi\", \"Tamil\", \"Kannada\", \"Malayalam\"]\n",
    "save_path_base = \"Results/Baseline/spni/avrodh_01\"\n",
    "\n",
    "for lang in languages:\n",
    "    path = f\"{save_path_base}/{lang}.csv\"\n",
    "    calculate(path,lang)"
   ]
  },
  {
   "cell_type": "code",
   "execution_count": null,
   "metadata": {},
   "outputs": [],
   "source": [
    "path= 'Results/openai/medium/fleurs/mr.csv'\n",
    "lang = 'gu'\n",
    "\n",
    "data = pd.read_csv(path)\n",
    "# data\n",
    "calculate(path,lang)"
   ]
  },
  {
   "cell_type": "code",
   "execution_count": 1,
   "metadata": {},
   "outputs": [
    {
     "name": "stderr",
     "output_type": "stream",
     "text": [
      "/hdd/Gothi_raj/envs/wt/lib/python3.10/site-packages/tqdm/auto.py:21: TqdmWarning: IProgress not found. Please update jupyter and ipywidgets. See https://ipywidgets.readthedocs.io/en/stable/user_install.html\n",
      "  from .autonotebook import tqdm as notebook_tqdm\n"
     ]
    },
    {
     "data": {
      "text/plain": [
       "DatasetDict({\n",
       "    train: Dataset({\n",
       "        features: ['input_features', 'labels'],\n",
       "        num_rows: 71063\n",
       "    })\n",
       "    validation: Dataset({\n",
       "        features: ['input_features', 'labels'],\n",
       "        num_rows: 3139\n",
       "    })\n",
       "})"
      ]
     },
     "execution_count": 1,
     "metadata": {},
     "output_type": "execute_result"
    }
   ],
   "source": [
    "from datasets import load_from_disk\n",
    "\n",
    "dataset = load_from_disk('/hdd2/raj/preprocess/gujarati_kathbath_medium_tokenized')\n",
    "dataset"
   ]
  },
  {
   "cell_type": "code",
   "execution_count": 2,
   "metadata": {},
   "outputs": [],
   "source": [
    "store = dataset['validation']['labels']\n",
    "for i in range(len(store)):\n",
    "    if (len(store[i]) == 0):\n",
    "        print('yes')"
   ]
  },
  {
   "cell_type": "code",
   "execution_count": 5,
   "metadata": {},
   "outputs": [
    {
     "name": "stdout",
     "output_type": "stream",
     "text": [
      "நோ  ->  2\n",
      "மேஜர்  ->  5\n",
      "அது  ->  3\n",
      "வெறும்  ->  6\n",
      "வெண்டிலேட்டர்.  ->  14\n",
      "ஐ  ->  1\n",
      "அம்  ->  3\n",
      "சோ  ->  2\n",
      "சாரி  ->  4\n"
     ]
    }
   ],
   "source": [
    "sentence = 'நோ மேஜர் அது வெறும் வெண்டிலேட்டர். ஐ அம் சோ சாரி'\n",
    "\n",
    "len(sentence)\n",
    "\n",
    "for word in sentence.split():\n",
    "    print(word,\" -> \",len(word))"
   ]
  },
  {
   "cell_type": "code",
   "execution_count": 6,
   "metadata": {},
   "outputs": [
    {
     "name": "stdout",
     "output_type": "stream",
     "text": [
      "नो  ->  2\n",
      "मेजर  ->  4\n",
      "देट  ->  3\n",
      "जस्ट  ->  4\n",
      "अ  ->  1\n",
      "वेंटीलेटर,  ->  10\n",
      "आई  ->  2\n",
      "एम  ->  2\n",
      "सो  ->  2\n",
      "सॉरी  ->  4\n"
     ]
    }
   ],
   "source": [
    "sentence = 'नो मेजर देट जस्ट अ वेंटीलेटर, आई एम सो सॉरी'\n",
    "\n",
    "len(sentence)\n",
    "for word in sentence.split():\n",
    "    print(word,\" -> \",len(word))"
   ]
  },
  {
   "cell_type": "code",
   "execution_count": null,
   "metadata": {},
   "outputs": [],
   "source": []
  }
 ],
 "metadata": {
  "kernelspec": {
   "display_name": "Python 3",
   "language": "python",
   "name": "python3"
  },
  "language_info": {
   "codemirror_mode": {
    "name": "ipython",
    "version": 3
   },
   "file_extension": ".py",
   "mimetype": "text/x-python",
   "name": "python",
   "nbconvert_exporter": "python",
   "pygments_lexer": "ipython3",
   "version": "3.10.0"
  }
 },
 "nbformat": 4,
 "nbformat_minor": 2
}
